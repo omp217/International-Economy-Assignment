{
 "cells": [
  {
   "cell_type": "code",
   "execution_count": 1,
   "metadata": {},
   "outputs": [],
   "source": [
    "# Import pandas, numpy and matplotlib\n",
    "\n",
    "import pandas as pd\n",
    "import numpy as np\n",
    "import matplotlib.pyplot as plt\n",
    "import wbdata"
   ]
  },
  {
   "cell_type": "code",
   "execution_count": 4,
   "metadata": {},
   "outputs": [
    {
     "name": "stdout",
     "output_type": "stream",
     "text": [
      "89\n",
      "58\n",
      "        Exports of goods and services (current US$)                        \\\n",
      "country                                     Andorra     Australia Austria   \n",
      "date                                                                        \n",
      "1960                                            NaN  2.413484e+09     NaN   \n",
      "1961                                            NaN  2.437003e+09     NaN   \n",
      "1962                                            NaN  2.772987e+09     NaN   \n",
      "1963                                            NaN  2.796506e+09     NaN   \n",
      "1964                                            NaN  3.549110e+09     NaN   \n",
      "\n",
      "                                                                              \\\n",
      "country Bahamas, The Bahrain Belarus Belgium Brunei Darussalam        Canada   \n",
      "date                                                                           \n",
      "1960             NaN     NaN     NaN     NaN               NaN           NaN   \n",
      "1961             NaN     NaN     NaN     NaN               NaN  7.215712e+09   \n",
      "1962             NaN     NaN     NaN     NaN               NaN  7.439414e+09   \n",
      "1963             NaN     NaN     NaN     NaN               NaN  8.094516e+09   \n",
      "1964             NaN     NaN     NaN     NaN               NaN  9.398224e+09   \n",
      "\n",
      "                       ...                                                \\\n",
      "country         Chile  ... Spain        Sweden Switzerland      Thailand   \n",
      "date                   ...                                                 \n",
      "1960     5.366089e+08  ...   NaN  3.310997e+09         NaN  4.457128e+08   \n",
      "1961     5.257171e+08  ...   NaN  3.497752e+09         NaN  5.259659e+08   \n",
      "1962     6.148124e+08  ...   NaN  3.718924e+09         NaN  5.190613e+08   \n",
      "1963     6.970660e+08  ...   NaN  4.032439e+09         NaN  5.358137e+08   \n",
      "1964     7.327864e+08  ...   NaN  4.573145e+09         NaN  6.749519e+08   \n",
      "\n",
      "                                                                               \\\n",
      "country Trinidad and Tobago       Turkiye United Arab Emirates United Kingdom   \n",
      "date                                                                            \n",
      "1960                    NaN  2.874743e+08                  NaN            NaN   \n",
      "1961                    NaN  4.111111e+08                  NaN            NaN   \n",
      "1962                    NaN  5.000000e+08                  NaN            NaN   \n",
      "1963                    NaN  4.333333e+08                  NaN            NaN   \n",
      "1964                    NaN  5.000000e+08                  NaN            NaN   \n",
      "\n",
      "                                     \n",
      "country United States       Uruguay  \n",
      "date                                 \n",
      "1960              NaN  1.713502e+08  \n",
      "1961              NaN  2.197995e+08  \n",
      "1962              NaN  1.939180e+08  \n",
      "1963              NaN  1.850261e+08  \n",
      "1964              NaN  2.359047e+08  \n",
      "\n",
      "[5 rows x 58 columns]\n"
     ]
    }
   ],
   "source": [
    "#set up the countries I want\n",
    "# developing_countries = [\"AF\", \"BD\", \"BT\", \"KH\", \"CM\", \"TD\", \"CD\", \"CG\", \"CI\", \"ET\", \"GM\", \"GH\", \"GT\", \"GN\", \"GW\", \"GY\", \"HT\", \n",
    "# \"HN\", \"IN\", \"ID\", \"KE\", \"LA\", \"LS\", \"MG\", \"MW\", \"ML\", \"MZ\", \"MM\", \"NP\", \"NI\", \"NE\", \"NG\", \"PK\", \"PG\", \"RW\", \"SN\", \"SL\", \"SB\", \"SS\", \"UG\"]\n",
    "\n",
    "# Set developing countries as code of this countries: Albania, \n",
    "developing_countries = [\"AL\", \"DZ\", \"AO\", \"AG\", \"AR\", \"AM\", \"AW\", \"AZ\", \"BD\", \"BB\", \"BZ\", \"BJ\", \"BT\", \"BO\", \"BA\", \"BW\", \"BR\",\n",
    "\"BG\", \"BF\", \"BI\", \"KH\", \"CM\", \"CF\", \"TD\", \"CL\", \"CN\", \"CO\", \"KM\", \"DM\", \"DO\", \"EC\", \"SV\", \"GQ\", \"ER\", \"ET\", \"FJ\", \"GA\", \"GH\",\n",
    "\"GD\", \"GT\", \"GN\", \"GW\", \"GY\", \"HT\", \"HN\", \"IN\", \"ID\", \"IQ\", \"JM\", \"JO\", \"KZ\", \"KE\", \"KI\", \"KW\", \"LB\", \"LS\", \"LR\", \"LY\", \"MG\", \"MW\",\n",
    "\"MY\", \"MV\", \"ML\", \"MH\", \"MR\", \"MX\", \"MD\", \"MN\", \"ME\", \"MA\", \"MZ\", \"MM\", \"NA\", \"NP\", \"NI\", \"NE\", \"NG\", \"OM\", \"PK\", \"PW\", \"PA\", \"PG\",\n",
    "\"PY\", \"PE\", \"PH\", \"PL\", \"QA\", \"RO\", \"RW\"]\n",
    "\n",
    "print(len(developing_countries))\n",
    "\n",
    "# Set developed countries as 70 developed coutry's codes\n",
    "developed_countries = [\"AD\", \"AU\", \"AT\", \"BS\", \"BH\", \"BY\", \"BE\", \"BN\", \"CA\", \"CL\", \"CR\", \"HR\", \"CY\", \"CZ\", \"DK\", \"EE\", \"FI\", \"FR\", \"GE\", \"DE\",\n",
    "\"GR\", \"HK\", \"HU\", \"IS\", \"IE\", \"IL\", \"IT\", \"JP\", \"LV\", \"LI\", \"LT\", \"LU\", \"MT\", \"MU\", \"NL\", \"NZ\", \"NO\", \"PL\", \"PT\", \"RO\", \"RU\", \"SM\",\n",
    "\"SA\", \"RS\", \"SG\", \"SK\", \"SI\", \"KR\", \"ES\", \"SE\", \"CH\", \"TH\", \"TT\", \"TR\", \"AE\", \"GB\", \"US\", \"UY\"]\n",
    "\n",
    "print(len(developed_countries))\n",
    " \n",
    "#set up the indicator I want (just build up the dict if you want more than one)\n",
    "gdp_indicator = {'NY.GDP.MKTP.CD':'GDP (current US$)'}\n",
    "import_indicator = {'NE.IMP.GNFS.CD':'Imports of goods and services (current US$)'}\n",
    "export_indicator = {'NE.EXP.GNFS.CD':'Exports of goods and services (current US$)'}\n",
    " \n",
    "#grab indicators above for countires above and load into data frame\n",
    "df = wbdata.get_dataframe(export_indicator, country=developed_countries, convert_date=False)\n",
    "# print(df)\n",
    "\n",
    "#df is \"pivoted\", pandas' unstack fucntion helps reshape it into something plottable\n",
    "dfu = df.unstack(level=0)\n",
    "# print(dfu)\n",
    "\n",
    "# save the dfu into csv file\n",
    "dfu.to_csv('export_developed.csv')\n",
    "\n",
    "# # a simple matplotlib plot with legend, labels and a title\n",
    "# dfu.plot()\n",
    "# plt.legend(loc='best')\n",
    "# plt.title(\"GNI Per Capita ($USD, Atlas Method)\")\n",
    "# plt.xlabel('Date'); plt.ylabel('GNI Per Capita ($USD, Atlas Method')\n",
    "print(dfu.head())"
   ]
  },
  {
   "cell_type": "code",
   "execution_count": null,
   "metadata": {},
   "outputs": [],
   "source": [
    "print(dfu)"
   ]
  },
  {
   "cell_type": "code",
   "execution_count": null,
   "metadata": {},
   "outputs": [],
   "source": []
  }
 ],
 "metadata": {
  "kernelspec": {
   "display_name": "Python 3.9.13 ('base')",
   "language": "python",
   "name": "python3"
  },
  "language_info": {
   "codemirror_mode": {
    "name": "ipython",
    "version": 3
   },
   "file_extension": ".py",
   "mimetype": "text/x-python",
   "name": "python",
   "nbconvert_exporter": "python",
   "pygments_lexer": "ipython3",
   "version": "3.9.13"
  },
  "orig_nbformat": 4,
  "vscode": {
   "interpreter": {
    "hash": "cf1ee66cb0a5dbbe9b15b35d8b5ef163dfe6de55254de5ac3d70cf481ad0a057"
   }
  }
 },
 "nbformat": 4,
 "nbformat_minor": 2
}
